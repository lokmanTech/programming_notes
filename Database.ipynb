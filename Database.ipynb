{
 "cells": [
  {
   "cell_type": "markdown",
   "metadata": {},
   "source": [
    "\n",
    "## <a id=\"db\"></a> Db - Database\n",
    "\n",
    "**What is database?**\n",
    "\n",
    "Data is a collection of facts related to any object. For example: - Your name, number, birthday, phone number, email address, etc. is a collection of facts about you.\n",
    "\n",
    "Therefore, a database is a systematic collection of small units of information (data). For example: - An organized list of all the students of a school along with their data (Name, PhoneNumber, Birthday, etc.) is referred to as a database.\n",
    "\n",
    "## <a id=\"rdbms\"></a> RDBMS - Relational Database Management Systems\n",
    "\n",
    "**What is an RDBMS (Relational Database Management System)?**\n",
    "RDBMS Stands for Relational DataBase Management System and is a collection of tools that allow users to organize, manipulate, and visualize databases. RDMBS follows somes tandards that allow for the fastest response from a database and make it easier for humans to interact with a database. Think of an RDBMS as a tool that allows you to play with your data and generate insights or value from the database."
   ]
  }
 ],
 "metadata": {
  "language_info": {
   "name": "python"
  }
 },
 "nbformat": 4,
 "nbformat_minor": 2
}
